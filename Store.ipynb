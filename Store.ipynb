{
 "cells": [
  {
   "cell_type": "code",
   "execution_count": 1,
   "id": "8d538b53-90e0-4995-beba-7c273fd78c32",
   "metadata": {},
   "outputs": [],
   "source": [
    "# build_stores_analysis.py\n",
    "import os, glob, zipfile, nbformat\n",
    "import pandas as pd\n",
    "import numpy as np\n",
    "import matplotlib.pyplot as plt\n",
    "import seaborn as sns\n",
    "from matplotlib.ticker import FuncFormatter\n",
    "from nbconvert import HTMLExporter\n",
    "from nbconvert.preprocessors import ExecutePreprocessor\n",
    "from datetime import datetime"
   ]
  },
  {
   "cell_type": "code",
   "execution_count": 2,
   "id": "f879776e-7c6e-4e41-a9ef-841803d70ffa",
   "metadata": {},
   "outputs": [],
   "source": [
    "sns.set_style(\"whitegrid\")\n",
    "plt.rcParams['figure.figsize'] = (10,6)"
   ]
  },
  {
   "cell_type": "code",
   "execution_count": 3,
   "id": "f30f5fed-41a0-420a-9196-a7cdce93d03e",
   "metadata": {},
   "outputs": [],
   "source": [
    "ROOT = os.getcwd()\n",
    "CSV_NAME_GLOB = \"Stores*.csv\"  # matches Stores.csv or Stores (1).csv etc.\n",
    "PDF_NAME = \"Supermarket Store Branches.pdf\"\n",
    "ASSETS_DIR = os.path.join(ROOT, \"stores_assets\")\n",
    "os.makedirs(ASSETS_DIR, exist_ok=True)"
   ]
  },
  {
   "cell_type": "code",
   "execution_count": 8,
   "id": "d5cf6ff2-fc07-4ef5-9e3e-d4722089b05a",
   "metadata": {},
   "outputs": [],
   "source": [
    "\n",
    "# ---------- Helper: fuzzy column mapping ----------\n",
    "def find_best_column(df_cols, target_variants):\n",
    "    \"\"\"\n",
    "    df_cols : iterable of DataFrame columns (strings)\n",
    "    target_variants : list of possible target names (strings)\n",
    "    returns best match or None\n",
    "    \"\"\"\n",
    "    cols_lower = [c.lower().strip() for c in df_cols]\n",
    "    for tv in target_variants:\n",
    "        tv_l = tv.lower()\n",
    "        if tv_l in cols_lower:\n",
    "            idx = cols_lower.index(tv_l)\n",
    "            return list(df_cols)[idx]\n",
    "    # try contains matching (partial)\n",
    "    for tv in target_variants:\n",
    "        tv_l = tv.lower().replace(\"_\",\" \").strip()\n",
    "        for c in df_cols:\n",
    "            if tv_l in c.lower().replace(\"_\",\" \"):\n",
    "                return c\n",
    "    # fallback: try token matching\n",
    "    for c in df_cols:\n",
    "        for tv in target_variants:\n",
    "            if all(tok in c.lower() for tok in tv.lower().split()):\n",
    "                return c\n",
    "    return None\n"
   ]
  },
  {
   "cell_type": "code",
   "execution_count": 9,
   "id": "8430b291-4532-47ea-a4e5-d4ff481a6002",
   "metadata": {},
   "outputs": [
    {
     "name": "stdout",
     "output_type": "stream",
     "text": [
      "Using dataset: C:\\Users\\Radejoro\\Supermarket Store\\Stores.csv\n"
     ]
    }
   ],
   "source": [
    "# ---------- Find CSV ----------\n",
    "csv_candidates = glob.glob(os.path.join(ROOT, CSV_NAME_GLOB))\n",
    "if not csv_candidates:\n",
    "    raise FileNotFoundError(f\"No file matching '{CSV_NAME_GLOB}' found in {ROOT}. Please upload Stores.csv.\")\n",
    "csv_path = csv_candidates[0]\n",
    "print(\"Using dataset:\", csv_path)\n"
   ]
  },
  {
   "cell_type": "code",
   "execution_count": 10,
   "id": "0ed663ea-26bc-4912-9415-68589bac649b",
   "metadata": {},
   "outputs": [
    {
     "name": "stdout",
     "output_type": "stream",
     "text": [
      "Loaded CSV with encoding: utf-8\n",
      "Detected columns: ['Store ID ', 'Store_Area', 'Items_Available', 'Daily_Customer_Count', 'Store_Sales']\n"
     ]
    }
   ],
   "source": [
    "\n",
    "# ---------- Load CSV with fallbacks ----------\n",
    "encodings = ['utf-8','latin1','cp1252','utf-16']\n",
    "df = None\n",
    "for e in encodings:\n",
    "    try:\n",
    "        df = pd.read_csv(csv_path, encoding=e)\n",
    "        print(\"Loaded CSV with encoding:\", e)\n",
    "        break\n",
    "    except Exception as ex:\n",
    "        print(\"Failed with encoding\", e, \":\", ex)\n",
    "if df is None:\n",
    "    raise ValueError(\"Failed to read CSV with tried encodings.\")\n",
    "\n",
    "# print detected columns\n",
    "print(\"Detected columns:\", list(df.columns))\n"
   ]
  },
  {
   "cell_type": "code",
   "execution_count": 11,
   "id": "fad32f4b-eeed-4823-9431-aeea6906e2cf",
   "metadata": {},
   "outputs": [
    {
     "name": "stdout",
     "output_type": "stream",
     "text": [
      "Mapping store_id -> Store ID \n",
      "Mapping store_area -> Store_Area\n",
      "Mapping items_available -> Items_Available\n",
      "Mapping daily_customers -> Daily_Customer_Count\n",
      "Mapping store_sales -> Store_Sales\n",
      "Rows before dropping NA: 896\n",
      "Rows after dropping NA Store_Sales: 896\n"
     ]
    }
   ],
   "source": [
    "# ---------- Map expected columns robustly ----------\n",
    "expected = {\n",
    "    \"store_id\": [\"Store ID\", \"store id\", \"id\", \"storeid\", \"store\"],\n",
    "    \"store_area\": [\"Store_Area\", \"Store Area\", \"store area\", \"area\", \"store_area\"],\n",
    "    \"items_available\": [\"Items_Available\", \"Items Available\", \"items available\", \"items_available\", \"items\"],\n",
    "    \"daily_customers\": [\"DailyCustomerCount\", \"Daily Customer Count\", \"daily customer\", \"dailycustomers\", \"customers\", \"daily_customer_count\"],\n",
    "    \"store_sales\": [\"Store_Sales\", \"Store Sales\", \"sales\", \"store_sales\", \"store sales (usd)\"]\n",
    "}\n",
    "\n",
    "mapped = {}\n",
    "for key, variants in expected.items():\n",
    "    col = find_best_column(df.columns, variants)\n",
    "    mapped[key] = col\n",
    "    print(f\"Mapping {key} -> {col}\")\n",
    "\n",
    "# Validate mapping\n",
    "missing = [k for k,v in mapped.items() if v is None]\n",
    "if missing:\n",
    "    print(\"ERROR: Could not automatically detect these required columns:\", missing)\n",
    "    print(\"Detected columns were:\", list(df.columns))\n",
    "    print(\"Please rename the CSV columns or update the mapping in the script.\")\n",
    "    raise SystemExit(1)\n",
    "\n",
    "# normalize names in a working DataFrame\n",
    "work = df.rename(columns={mapped['store_id']:'Store ID',\n",
    "                          mapped['store_area']:'Store_Area',\n",
    "                          mapped['items_available']:'Items_Available',\n",
    "                          mapped['daily_customers']:'DailyCustomerCount',\n",
    "                          mapped['store_sales']:'Store_Sales'}).copy()\n",
    "\n",
    "# Convert numeric columns (coerce errors)\n",
    "for c in ['Store_Area','Items_Available','DailyCustomerCount','Store_Sales']:\n",
    "    work[c] = pd.to_numeric(work[c], errors='coerce')\n",
    "\n",
    "# Basic cleaning\n",
    "print(\"Rows before dropping NA:\", len(work))\n",
    "work = work.dropna(subset=['Store_Sales'])\n",
    "print(\"Rows after dropping NA Store_Sales:\", len(work))\n",
    "\n",
    "# Create KPI columns\n",
    "work['Sales_per_Customer'] = work['Store_Sales'] / work['DailyCustomerCount'].replace(0, np.nan)\n",
    "work['Sales_per_Area'] = work['Store_Sales'] / work['Store_Area'].replace(0, np.nan)\n"
   ]
  },
  {
   "cell_type": "code",
   "execution_count": 15,
   "id": "1fb5d04a-b9fc-4f25-b1e5-c771783368b7",
   "metadata": {},
   "outputs": [],
   "source": [
    "# ---------- Plots (saved to assets) ----------\n",
    "palette = [\"#E76F51\", \"#F4A261\", \"#E63946\", \"#F5F5F5\", \"#9E2A2B\"]\n",
    "\n",
    "# 1: Sales distribution\n",
    "plt.figure()\n",
    "sns.histplot(work['Store_Sales'].dropna(), bins=20, kde=True, color=palette[0])\n",
    "plt.title(\"Distribution of Store Sales\")\n",
    "plt.xlabel(\"Store Sales (USD)\")\n",
    "plt.tight_layout()\n",
    "p1 = os.path.join(ASSETS_DIR, \"sales_distribution.png\")\n",
    "plt.savefig(p1, dpi=200); plt.close()"
   ]
  },
  {
   "cell_type": "code",
   "execution_count": 16,
   "id": "0eb568e9-24a8-4982-8543-253c195ab7cf",
   "metadata": {},
   "outputs": [],
   "source": [
    "# 2: Top 10 stores by sales\n",
    "top10 = work.sort_values('Store_Sales', ascending=False).head(10)\n",
    "plt.figure()\n",
    "plt.bar(top10['Store ID'].astype(str), top10['Store_Sales'], color=palette[1])\n",
    "plt.title(\"Top 10 Stores by Sales\")\n",
    "plt.ylabel(\"Sales (USD)\")\n",
    "plt.xticks(rotation=45)\n",
    "plt.tight_layout()\n",
    "p2 = os.path.join(ASSETS_DIR, \"top10_stores.png\")\n",
    "plt.savefig(p2, dpi=200); plt.close()\n"
   ]
  },
  {
   "cell_type": "code",
   "execution_count": 17,
   "id": "edb160bf-d448-4d8b-a573-4392a9c8c1bc",
   "metadata": {},
   "outputs": [],
   "source": [
    "# 3: Store_Area vs Sales (regression)\n",
    "plt.figure()\n",
    "sns.regplot(x='Store_Area', y='Store_Sales', data=work, scatter_kws={'s':50}, line_kws={'color':palette[2]})\n",
    "plt.title(\"Store Area vs Store Sales\")\n",
    "plt.tight_layout()\n",
    "p3 = os.path.join(ASSETS_DIR, \"area_vs_sales.png\")\n",
    "plt.savefig(p3, dpi=200); plt.close()"
   ]
  },
  {
   "cell_type": "code",
   "execution_count": 18,
   "id": "46a2def8-7ba4-49b7-8ebf-256a2c05c30d",
   "metadata": {},
   "outputs": [],
   "source": [
    "# 4: DailyCustomerCount vs Sales\n",
    "plt.figure()\n",
    "sns.regplot(x='DailyCustomerCount', y='Store_Sales', data=work, scatter_kws={'s':50}, line_kws={'color':palette[3]})\n",
    "plt.title(\"Daily Customer Count vs Store Sales\")\n",
    "plt.tight_layout()\n",
    "p4 = os.path.join(ASSETS_DIR, \"customers_vs_sales.png\")\n",
    "plt.savefig(p4, dpi=200); plt.close()\n"
   ]
  },
  {
   "cell_type": "code",
   "execution_count": 19,
   "id": "58109a12-c2b3-4be7-acbc-c9a4facf4dca",
   "metadata": {},
   "outputs": [],
   "source": [
    "# 5: Pairplot numeric\n",
    "nums = ['Store_Area','Items_Available','DailyCustomerCount','Store_Sales']\n",
    "available_nums = [c for c in nums if c in work.columns]\n",
    "if len(available_nums) >= 2:\n",
    "    pairplot = sns.pairplot(work[available_nums], diag_kind='kde', corner=True, plot_kws={'s':30,'alpha':0.6})\n",
    "    p5 = os.path.join(ASSETS_DIR, \"pairplot_numeric.png\")\n",
    "    pairplot.savefig(p5, dpi=200)\n",
    "    plt.close()\n",
    "else:\n",
    "    p5 = None\n"
   ]
  },
  {
   "cell_type": "code",
   "execution_count": 20,
   "id": "97031c8f-6681-4ec6-8ec2-16fd98ac5116",
   "metadata": {},
   "outputs": [
    {
     "name": "stdout",
     "output_type": "stream",
     "text": [
      "Plots saved in: C:\\Users\\Radejoro\\Supermarket Store\\stores_assets\n"
     ]
    }
   ],
   "source": [
    "# 6: Correlation heatmap\n",
    "plt.figure(figsize=(6,5))\n",
    "corr = work[available_nums].corr()\n",
    "sns.heatmap(corr, annot=True, cmap='OrRd', fmt=\".2f\")\n",
    "plt.title(\"Correlation Matrix (Numeric Features)\")\n",
    "plt.tight_layout()\n",
    "p6 = os.path.join(ASSETS_DIR, \"correlation_matrix.png\")\n",
    "plt.savefig(p6, dpi=200); plt.close()\n",
    "\n",
    "print(\"Plots saved in:\", ASSETS_DIR)"
   ]
  },
  {
   "cell_type": "code",
   "execution_count": 21,
   "id": "a4204d23-cb9a-4250-8da4-0b6f5265d0ff",
   "metadata": {},
   "outputs": [
    {
     "name": "stdout",
     "output_type": "stream",
     "text": [
      "Notebook written to C:\\Users\\Radejoro\\Supermarket Store\\Supermarket_Stores_Sales_Analysis_PPDAC.ipynb\n"
     ]
    }
   ],
   "source": [
    "# ---------- Notebook creation (lightweight, references assets) ----------\n",
    "nb = nbformat.v4.new_notebook()\n",
    "cells = []\n",
    "cells.append(nbformat.v4.new_markdown_cell(\"# Supermarket Store Branches — Sales Analysis (PPDAC)\\n\\nThis notebook was auto-generated. See plots in `stores_assets/`.\"))\n",
    "cells.append(nbformat.v4.new_code_cell(\"import pandas as pd\\npd.options.display.max_columns=50\\nprint('Run this notebook in the same folder as Stores.csv')\"))\n",
    "cells.append(nbformat.v4.new_markdown_cell(\"## Visualizations (saved in stores_assets/)\"))\n",
    "img_display_code = \"from IPython.display import Image, display\\nimport os\\nassets='stores_assets'\\nfor f in ['sales_distribution.png','top10_stores.png','area_vs_sales.png','customers_vs_sales.png','pairplot_numeric.png','correlation_matrix.png']:\\n    p=os.path.join(assets,f)\\n    if os.path.exists(p): display(Image(p))\\n    else: print('Missing',p)\"\n",
    "cells.append(nbformat.v4.new_code_cell(img_display_code))\n",
    "nb['cells'] = cells\n",
    "notebook_path = os.path.join(ROOT, \"Supermarket_Stores_Sales_Analysis_PPDAC.ipynb\")\n",
    "with open(notebook_path, 'w', encoding='utf-8') as fh:\n",
    "    nbformat.write(nb, fh)\n",
    "print(\"Notebook written to\", notebook_path)"
   ]
  },
  {
   "cell_type": "code",
   "execution_count": 22,
   "id": "48869623-d96c-4472-bb8a-ac77f2b0bde4",
   "metadata": {},
   "outputs": [
    {
     "name": "stdout",
     "output_type": "stream",
     "text": [
      "README_stores.md written\n"
     ]
    }
   ],
   "source": [
    "# ---------- README ----------\n",
    "readme_text = f\"\"\"# Supermarket-Store-Branches-Sales-Analysis-PPDAC\n",
    "\n",
    "Author: Adejoro Raymond Olaotan\n",
    "\n",
    "This repository contains an exploratory PPDAC analysis of store branch sales (Stores.csv).\n",
    "\n",
    "**Files included**\n",
    "- Supermarket_Stores_Sales_Analysis_PPDAC.ipynb\n",
    "- Stores.csv\n",
    "- Supermarket Store Branches.pdf (context)\n",
    "- stores_assets/ (plots)\n",
    "- Supermarket-Store-Branches-Analysis-PPDAC.zip\n",
    "\n",
    "**Contact:** your-email@example.com\n",
    "\n",
    "Reference: Supermarket Store Branches PDF. (See included PDF in repository)\n",
    "\"\"\"\n",
    "with open(os.path.join(ROOT, \"README_stores.md\"), 'w', encoding='utf-8') as f:\n",
    "    f.write(readme_text)\n",
    "print(\"README_stores.md written\")"
   ]
  },
  {
   "cell_type": "code",
   "execution_count": null,
   "id": "a35f7858-6527-4674-8ae6-303a58fffd97",
   "metadata": {},
   "outputs": [],
   "source": []
  }
 ],
 "metadata": {
  "kernelspec": {
   "display_name": "Python 3 (ipykernel)",
   "language": "python",
   "name": "python3"
  },
  "language_info": {
   "codemirror_mode": {
    "name": "ipython",
    "version": 3
   },
   "file_extension": ".py",
   "mimetype": "text/x-python",
   "name": "python",
   "nbconvert_exporter": "python",
   "pygments_lexer": "ipython3",
   "version": "3.13.5"
  }
 },
 "nbformat": 4,
 "nbformat_minor": 5
}
